{
 "cells": [
  {
   "cell_type": "code",
   "execution_count": 7,
   "metadata": {
    "ExecuteTime": {
     "end_time": "2017-12-22T23:35:25.609469Z",
     "start_time": "2017-12-22T23:35:25.606070Z"
    }
   },
   "outputs": [],
   "source": [
    "import numpy as np"
   ]
  },
  {
   "cell_type": "code",
   "execution_count": 10,
   "metadata": {
    "ExecuteTime": {
     "end_time": "2017-12-22T23:37:38.919420Z",
     "start_time": "2017-12-22T23:37:38.912676Z"
    }
   },
   "outputs": [],
   "source": [
    "def value_to_index(value,min_value,max_value):\n",
    "    x = (value-min_value)/(max_value-min_value)\n",
    "    scale = np.linspace(0,1,100)\n",
    "    return np.argmin(np.abs(x-scale))"
   ]
  },
  {
   "cell_type": "code",
   "execution_count": 16,
   "metadata": {
    "ExecuteTime": {
     "end_time": "2017-12-22T23:37:58.880284Z",
     "start_time": "2017-12-22T23:37:58.875069Z"
    }
   },
   "outputs": [
    {
     "data": {
      "text/plain": [
       "53"
      ]
     },
     "execution_count": 16,
     "metadata": {},
     "output_type": "execute_result"
    }
   ],
   "source": [
    "value_to_index(32,0,60)"
   ]
  },
  {
   "cell_type": "code",
   "execution_count": 23,
   "metadata": {
    "ExecuteTime": {
     "end_time": "2017-12-22T23:45:43.254207Z",
     "start_time": "2017-12-22T23:45:43.250274Z"
    }
   },
   "outputs": [],
   "source": [
    "x = np.ones([2,2,2])"
   ]
  },
  {
   "cell_type": "code",
   "execution_count": 24,
   "metadata": {
    "ExecuteTime": {
     "end_time": "2017-12-22T23:45:43.685253Z",
     "start_time": "2017-12-22T23:45:43.680003Z"
    }
   },
   "outputs": [
    {
     "data": {
      "text/plain": [
       "array([ 1.,  1.])"
      ]
     },
     "execution_count": 24,
     "metadata": {},
     "output_type": "execute_result"
    }
   ],
   "source": [
    "x[:,0,1]"
   ]
  },
  {
   "cell_type": "code",
   "execution_count": 25,
   "metadata": {
    "ExecuteTime": {
     "end_time": "2017-12-23T00:00:20.684101Z",
     "start_time": "2017-12-23T00:00:20.679115Z"
    }
   },
   "outputs": [
    {
     "data": {
      "text/plain": [
       "True"
      ]
     },
     "execution_count": 25,
     "metadata": {},
     "output_type": "execute_result"
    }
   ],
   "source": [
    "z = None\n",
    "z is None"
   ]
  },
  {
   "cell_type": "code",
   "execution_count": 28,
   "metadata": {
    "ExecuteTime": {
     "end_time": "2017-12-23T00:13:50.143954Z",
     "start_time": "2017-12-23T00:13:50.138699Z"
    }
   },
   "outputs": [
    {
     "data": {
      "text/plain": [
       "1.9911485751285518"
      ]
     },
     "execution_count": 28,
     "metadata": {},
     "output_type": "execute_result"
    }
   ],
   "source": [
    "-20%np.pi"
   ]
  },
  {
   "cell_type": "code",
   "execution_count": 32,
   "metadata": {
    "ExecuteTime": {
     "end_time": "2017-12-23T00:16:51.714141Z",
     "start_time": "2017-12-23T00:16:51.705759Z"
    }
   },
   "outputs": [
    {
     "data": {
      "text/plain": [
       "array([ 2.56637061,  3.07919113,  3.59201164,  4.10483215,  4.61765267,\n",
       "        5.13047318,  5.64329369,  6.1561142 ,  0.38574941,  0.89856992,\n",
       "        1.41139044,  1.92421095,  2.43703146,  2.94985197,  3.46267249,\n",
       "        3.975493  ,  4.48831351,  5.00113403,  5.51395454,  6.02677505,\n",
       "        0.25641026,  0.76923077,  1.28205128,  1.79487179,  2.30769231,\n",
       "        2.82051282,  3.33333333,  3.84615385,  4.35897436,  4.87179487,\n",
       "        5.38461538,  5.8974359 ,  0.1270711 ,  0.63989162,  1.15271213,\n",
       "        1.66553264,  2.17835315,  2.69117367,  3.20399418,  3.71681469])"
      ]
     },
     "execution_count": 32,
     "metadata": {},
     "output_type": "execute_result"
    }
   ],
   "source": [
    "np.linspace(-10,10,40)%(2*np.pi)"
   ]
  },
  {
   "cell_type": "code",
   "execution_count": null,
   "metadata": {},
   "outputs": [],
   "source": []
  }
 ],
 "metadata": {
  "kernelspec": {
   "display_name": "Python 3",
   "language": "python",
   "name": "python3"
  },
  "language_info": {
   "codemirror_mode": {
    "name": "ipython",
    "version": 3
   },
   "file_extension": ".py",
   "mimetype": "text/x-python",
   "name": "python",
   "nbconvert_exporter": "python",
   "pygments_lexer": "ipython3",
   "version": "3.5.3"
  }
 },
 "nbformat": 4,
 "nbformat_minor": 2
}
